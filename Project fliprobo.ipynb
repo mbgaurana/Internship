{
 "cells": [
  {
   "cell_type": "code",
   "execution_count": null,
   "id": "2d52d35b-45bd-4878-b7e1-7fcbe3f346de",
   "metadata": {},
   "outputs": [],
   "source": [
    "# Write a Python program to replace all occurrences of a space, comma, or dot with a colon."
   ]
  },
  {
   "cell_type": "code",
   "execution_count": 3,
   "id": "81390ce7-8de5-4dc0-8029-66fc13b61493",
   "metadata": {},
   "outputs": [
    {
     "name": "stdout",
     "output_type": "stream",
     "text": [
      "Python:Exercises::PHP:exercises:\n"
     ]
    }
   ],
   "source": [
    "import re\n",
    "text = 'Python Exercises, PHP exercises.'\n",
    "print(re.sub(\"[ ,.]\", \":\" , text))"
   ]
  },
  {
   "cell_type": "code",
   "execution_count": null,
   "id": "306f921b-66f7-4a16-9b7b-1449474d558a",
   "metadata": {},
   "outputs": [],
   "source": [
    "# Create a dataframe using the dictionary below and remove everything (commas (,), !, XXXX, ;, etc.) from the columns except words."
   ]
  },
  {
   "cell_type": "code",
   "execution_count": 12,
   "id": "78981414-56a9-4977-9c06-7e4a7dcd94d4",
   "metadata": {},
   "outputs": [
    {
     "name": "stdout",
     "output_type": "stream",
     "text": [
      "            SUMMARY\n",
      "0       hello world\n",
      "1              test\n",
      "2  123four five six\n"
     ]
    }
   ],
   "source": [
    "import pandas as pd\n",
    "import re\n",
    "\n",
    "Dictionary = {'SUMMARY' : ['hello, world!', 'XXXXX test', '123four, five:; six...']}\n",
    "df = pd.DataFrame(Dictionary)\n",
    "\n",
    "def clean_text(text):\n",
    "    text = re.sub(r'XXXXX', ' ', text)\n",
    "    return re.sub(r'\\W+', ' ', text).strip()\n",
    "\n",
    "df['SUMMARY'] = df['SUMMARY'].apply(clean_text)\n",
    "\n",
    "print (df)"
   ]
  },
  {
   "cell_type": "code",
   "execution_count": 1,
   "id": "4e7d571c-b3dd-404b-b1b1-6704f4eebefa",
   "metadata": {},
   "outputs": [],
   "source": [
    "# Create a function in python to find all words that are at least 4 characters long in a string. The use of the re.compile() method is mandatory."
   ]
  },
  {
   "cell_type": "code",
   "execution_count": 24,
   "id": "0663969c-2f97-4600-a648-2c918a0614c2",
   "metadata": {},
   "outputs": [
    {
     "name": "stdout",
     "output_type": "stream",
     "text": [
      "['India', 'country']\n"
     ]
    }
   ],
   "source": [
    "import re\n",
    "\n",
    "def find_long_word(text):\n",
    "    pattern = re.compile(r'\\b\\w{4,}\\b')\n",
    "    long_word = pattern.findall(text)\n",
    "    return long_word\n",
    "\n",
    "text = \"India is my country\"\n",
    "print (find_long_word(text))"
   ]
  },
  {
   "cell_type": "code",
   "execution_count": null,
   "id": "c4cb4238-1083-44d0-80ec-41f92a337859",
   "metadata": {},
   "outputs": [],
   "source": [
    "# Create a function in python to find all three, four, and five character words in a string. The use of the re.compile() method is mandatory."
   ]
  },
  {
   "cell_type": "code",
   "execution_count": 30,
   "id": "6fa156d9-c834-4c63-89b2-61bfbeb1d562",
   "metadata": {},
   "outputs": [
    {
     "name": "stdout",
     "output_type": "stream",
     "text": [
      "['India', 'ever', 'ready', 'play', 'role', 'peace', 'Modi']\n"
     ]
    }
   ],
   "source": [
    "import re\n",
    "\n",
    "def find_specific_length_words(text):\n",
    "    pattern = re.compile(r'\\b\\w{3,5}\\b')\n",
    "    specific_length_words = pattern.findall(text)\n",
    "    return specific_length_words\n",
    "\n",
    "text = \"India ever ready to play active role in peace efforts, Modi assures Zelenskyy\"\n",
    "print (find_specific_length_words(text))\n",
    "    "
   ]
  },
  {
   "cell_type": "code",
   "execution_count": null,
   "id": "f39cabd6-6d7b-4dbf-8588-b09aad1441e6",
   "metadata": {},
   "outputs": [],
   "source": [
    "# Create a function in Python to remove the parenthesis in a list of strings. The use of the re.compile() method is mandatory."
   ]
  },
  {
   "cell_type": "code",
   "execution_count": 133,
   "id": "fd987af5-19f5-4ef3-921d-1614458ffdc9",
   "metadata": {},
   "outputs": [
    {
     "name": "stdout",
     "output_type": "stream",
     "text": [
      "example.com\n",
      "hr@fliprobo.com\n",
      "github.com\n",
      "Hello Data Science World\n",
      "Data Scientist\n"
     ]
    }
   ],
   "source": [
    "import re\n",
    "\n",
    "def remove_parentheses(strings):\n",
    "\n",
    "    pattern = re.compile(r'\\(|\\)')\n",
    "    \n",
    "    cleaned_strings = [pattern.sub('', string).replace(' .', '.').strip() for string in strings]\n",
    "    \n",
    "    return cleaned_strings\n",
    "sample_text = [\n",
    "    \"example (.com)\",\n",
    "    \"hr@fliprobo (.com)\",\n",
    "    \"github (.com)\",\n",
    "    \"Hello (Data Science World)\",\n",
    "    \"Data (Scientist)\"\n",
    "]\n",
    "\n",
    "cleaned_text = remove_parentheses(sample_text)\n",
    "\n",
    "for text in cleaned_text:\n",
    "    print(text)"
   ]
  },
  {
   "cell_type": "code",
   "execution_count": null,
   "id": "9b8e2939-8f30-4a10-82fc-77d39a814295",
   "metadata": {},
   "outputs": [],
   "source": [
    "# Write a python program to remove the parenthesis area from the text stored in the text file using Regular Expression."
   ]
  },
  {
   "cell_type": "code",
   "execution_count": 134,
   "id": "6154e5e8-999f-49d7-8298-5b2b8d9b0e97",
   "metadata": {},
   "outputs": [
    {
     "name": "stdout",
     "output_type": "stream",
     "text": [
      "['example', 'hr@fliprobo', 'github', 'Hello', 'Data']\n"
     ]
    }
   ],
   "source": [
    "import re\n",
    "\n",
    "sample_text = [\"example (.com)\", \"hr@fliprobo (.com)\", \"github (.com)\", \"Hello (Data Science World)\", \"Data (Scientist)\"]\n",
    "\n",
    "with open('sample_text.txt', 'w') as file:\n",
    "    for line in sample_text:\n",
    "        file.write(line + '\\n')\n",
    "\n",
    "def remove_parenthesis_area(text):\n",
    "    return re.sub(r'\\s*\\(.*?\\)', '', text)\n",
    "\n",
    "cleaned_text = []\n",
    "with open('sample_text.txt', 'r') as file:\n",
    "    for line in file:\n",
    "        cleaned_text.append(remove_parenthesis_area(line.strip()))\n",
    "\n",
    "print(cleaned_text)\n"
   ]
  },
  {
   "cell_type": "code",
   "execution_count": null,
   "id": "96525f09-36c0-42ac-ad8f-131d82fef865",
   "metadata": {},
   "outputs": [],
   "source": [
    "#  Write a regular expression in Python to split a string into uppercase letters"
   ]
  },
  {
   "cell_type": "code",
   "execution_count": 45,
   "id": "b035c97a-6ac6-4688-8622-85f453cc2f75",
   "metadata": {},
   "outputs": [
    {
     "name": "stdout",
     "output_type": "stream",
     "text": [
      "['Importance', 'Of', 'Regular', 'Expressions', 'In', 'Python']\n"
     ]
    }
   ],
   "source": [
    "import re\n",
    "\n",
    "def split_uppercase(text):\n",
    "    return re.findall(r'[A-Z][^A-Z]*', text)\n",
    "\n",
    "text = \"ImportanceOfRegularExpressionsInPython\"\n",
    "print (split_uppercase(text))"
   ]
  },
  {
   "cell_type": "code",
   "execution_count": null,
   "id": "ea3919c5-37a5-4c9a-806e-383b9018b01d",
   "metadata": {},
   "outputs": [],
   "source": [
    "# Create a function in python to insert spaces between words starting with numbers."
   ]
  },
  {
   "cell_type": "code",
   "execution_count": 52,
   "id": "7c5f080c-d991-44ed-a1ec-a9be98f61b41",
   "metadata": {},
   "outputs": [
    {
     "name": "stdout",
     "output_type": "stream",
     "text": [
      "RegularExpression 1IsAn 2ImportantTopic 3InPython\n"
     ]
    }
   ],
   "source": [
    "import re\n",
    "\n",
    "def insert_spaces(text):\n",
    "    return re.sub(r'(\\D)(\\d)', r'\\1 \\2', text)\n",
    "    \n",
    "text = \"RegularExpression1IsAn2ImportantTopic3InPython\"\n",
    "print(insert_spaces(text))"
   ]
  },
  {
   "cell_type": "code",
   "execution_count": null,
   "id": "74882d55-0c0a-4848-aad2-27444cd63cb1",
   "metadata": {},
   "outputs": [],
   "source": [
    "# Create a function in python to insert spaces between words starting with capital letters or with numbers."
   ]
  },
  {
   "cell_type": "code",
   "execution_count": 55,
   "id": "f72875d9-8cd5-4875-9771-5bee072d6dc5",
   "metadata": {},
   "outputs": [
    {
     "name": "stdout",
     "output_type": "stream",
     "text": [
      "Regular Expression 1 Is An 2 Important Topic 3 In Python\n"
     ]
    }
   ],
   "source": [
    "import re\n",
    "\n",
    "def insert_spaces(text):\n",
    "    spaced_text = re.sub(r'(?<!^)(?=[A-Z0-9])', ' ', text)\n",
    "    return spaced_text\n",
    "\n",
    "text = \"RegularExpression1IsAn2ImportantTopic3InPython\"\n",
    "result = insert_spaces(text)\n",
    "print(result)\n",
    "    \n",
    "    "
   ]
  },
  {
   "cell_type": "code",
   "execution_count": null,
   "id": "e7f60dee-f561-4164-aa3c-d5e80b89ae2c",
   "metadata": {},
   "outputs": [],
   "source": [
    "# Use the github link below to read the data and create a dataframe. After creating the dataframe extract the first 6 letters of each country and store in the dataframe under a new column called first_five_letters."
   ]
  },
  {
   "cell_type": "code",
   "execution_count": 187,
   "id": "ed3e4b05-c4bd-4608-a3e2-6f148b545049",
   "metadata": {},
   "outputs": [
    {
     "name": "stdout",
     "output_type": "stream",
     "text": [
      "       Country          Region  Happiness Rank  Happiness Score  \\\n",
      "0  Switzerland  Western Europe               1            7.587   \n",
      "1      Iceland  Western Europe               2            7.561   \n",
      "2      Denmark  Western Europe               3            7.527   \n",
      "3       Norway  Western Europe               4            7.522   \n",
      "4       Canada   North America               5            7.427   \n",
      "\n",
      "   Standard Error  Economy (GDP per Capita)   Family  \\\n",
      "0         0.03411                   1.39651  1.34951   \n",
      "1         0.04884                   1.30232  1.40223   \n",
      "2         0.03328                   1.32548  1.36058   \n",
      "3         0.03880                   1.45900  1.33095   \n",
      "4         0.03553                   1.32629  1.32261   \n",
      "\n",
      "   Health (Life Expectancy)  Freedom  Trust (Government Corruption)  \\\n",
      "0                   0.94143  0.66557                        0.41978   \n",
      "1                   0.94784  0.62877                        0.14145   \n",
      "2                   0.87464  0.64938                        0.48357   \n",
      "3                   0.88521  0.66973                        0.36503   \n",
      "4                   0.90563  0.63297                        0.32957   \n",
      "\n",
      "   Generosity  Dystopia Residual first_five_letters  \n",
      "0     0.29678            2.51738              Switz  \n",
      "1     0.43630            2.70201              Icela  \n",
      "2     0.34139            2.49204              Denma  \n",
      "3     0.34699            2.46531              Norwa  \n",
      "4     0.45811            2.45176              Canad  \n"
     ]
    }
   ],
   "source": [
    "import pandas as pd\n",
    "\n",
    "df = pd.read_csv('C:/Users/mahes/Downloads/happiness_score_dataset.csv')\n",
    "df['first_five_letters'] = df['Country'].str[:5]\n",
    "print(df.head())\n"
   ]
  },
  {
   "cell_type": "code",
   "execution_count": null,
   "id": "13dc7091-2ddf-47d9-93b8-21ccfd8109bd",
   "metadata": {},
   "outputs": [],
   "source": [
    "# Write a Python program to match a string that contains only upper and lowercase letters, numbers, and underscores."
   ]
  },
  {
   "cell_type": "code",
   "execution_count": 135,
   "id": "0c06fe62-194e-4154-a685-a1b6b27fb47e",
   "metadata": {},
   "outputs": [],
   "source": [
    "import re\n",
    "\n",
    "def tex_match(text):\n",
    "    pattern = r'^[a-zA-Z0-9_]*$'\n",
    "    if re.match(pattern, text):\n",
    "        return 'Founds a match!'\n",
    "    else:\n",
    "        return 'Not matched!'"
   ]
  },
  {
   "cell_type": "code",
   "execution_count": null,
   "id": "7514e283-f12c-4cc5-840e-ce9f870609b6",
   "metadata": {},
   "outputs": [],
   "source": [
    "# Write a Python program where a string will start with a specific number. "
   ]
  },
  {
   "cell_type": "code",
   "execution_count": 85,
   "id": "dada2b6d-572b-4635-accb-91d09fade2e8",
   "metadata": {},
   "outputs": [
    {
     "name": "stdout",
     "output_type": "stream",
     "text": [
      "<function starts_with_number at 0x0000023BAA85B7E0> 5-2345861\n"
     ]
    }
   ],
   "source": [
    "import re\n",
    "\n",
    "def starts_with_number(text, number):\n",
    "    pattern =rf'^{5}'\n",
    "    return bool(re.match(pattern, text))\n",
    "\n",
    "text = \"5-2345861\"\n",
    "print (starts_with_number,(text))"
   ]
  },
  {
   "cell_type": "code",
   "execution_count": null,
   "id": "9d7945d4-f97b-4eb4-bd7f-3bca241445e2",
   "metadata": {},
   "outputs": [],
   "source": [
    "# Write a Python program to remove leading zeros from an IP address."
   ]
  },
  {
   "cell_type": "code",
   "execution_count": 100,
   "id": "0f2778f1-9e5b-45c7-8fe4-2d0cfec00591",
   "metadata": {},
   "outputs": [
    {
     "name": "stdout",
     "output_type": "stream",
     "text": [
      "10.32.68.25\n"
     ]
    }
   ],
   "source": [
    "import re\n",
    "\n",
    "def remove_leading_zeros(ip_address):\n",
    "    # Define the regex pattern to match leading zeros in each octet\n",
    "    pattern = r'\\b0+(\\d)'\n",
    "    \n",
    "    # Replace leading zeros with the captured digit\n",
    "    cleaned_ip_address = re.sub(pattern, r'\\1', ip_address)\n",
    "    \n",
    "    return cleaned_ip_address\n",
    "\n",
    "# Test the function\n",
    "ip = \"10.32.68.025\"\n",
    "cleaned_ip = remove_leading_zeros(ip)\n",
    "print(cleaned_ip)  \n"
   ]
  },
  {
   "cell_type": "code",
   "execution_count": null,
   "id": "a4a8613d-c35a-4551-b26b-a66faa407d16",
   "metadata": {},
   "outputs": [],
   "source": [
    "# Write a regular expression in python to match a date string in the form of Month name followed by day number and year stored in a text file."
   ]
  },
  {
   "cell_type": "code",
   "execution_count": 115,
   "id": "234e5a02-3db3-4ab5-9857-71d4dc050fca",
   "metadata": {},
   "outputs": [
    {
     "name": "stdout",
     "output_type": "stream",
     "text": [
      "Extracted Date: August 15th 1947\n"
     ]
    }
   ],
   "source": [
    "sample_text = \"On August 15th 1947 that India was declared independent from British colonialism, and the reins of control were handed over to the leaders of the Country.\"\n",
    "with open(\"sample.txt\", \"w\") as file:\n",
    "    file.write(sample_text)\n",
    "    \n",
    "    \n",
    "import re\n",
    "\n",
    "with open(\"sample.txt\", \"r\") as file:\n",
    "    content = file.read()\n",
    "\n",
    "\n",
    "pattern = r'\\b([A-Z][a-z]+ \\d{1,2}(?:st|nd|rd|th)? \\d{4})\\b'\n",
    "\n",
    "\n",
    "match = re.search(pattern, content)\n",
    "\n",
    "if match:\n",
    "    print(\"Extracted Date:\", match.group(1))\n",
    "else:\n",
    "    print(\"No date found\")\n"
   ]
  },
  {
   "cell_type": "code",
   "execution_count": null,
   "id": "893831a2-c250-41d8-94d3-d510a6495da3",
   "metadata": {},
   "outputs": [],
   "source": [
    "# Write a Python program to search some literals strings in a string. "
   ]
  },
  {
   "cell_type": "code",
   "execution_count": 117,
   "id": "15a98417-b6fc-436b-998e-77ccb3cfff11",
   "metadata": {},
   "outputs": [
    {
     "name": "stdout",
     "output_type": "stream",
     "text": [
      "'fox' found in the text.\n",
      "'dog' found in the text.\n",
      "'horse' not found in the text.\n"
     ]
    }
   ],
   "source": [
    "import re\n",
    "\n",
    "sample_text = 'The quick brown fox jumps over the lazy dog.'\n",
    "searched_words = ['fox', 'dog', 'horse']\n",
    "\n",
    "def search_words(text, words):\n",
    "    found_words = {}\n",
    "    for word in words:\n",
    "        if re.search(r'\\b' + re.escape(word) + r'\\b', text):\n",
    "            found_words[word] = True\n",
    "        else:\n",
    "            found_words[word] = False\n",
    "    return found_words\n",
    "\n",
    "results = search_words(sample_text, searched_words)\n",
    "\n",
    "for word, found in results.items():\n",
    "    if found:\n",
    "        print(f\"'{word}' found in the text.\")\n",
    "    else:\n",
    "        print(f\"'{word}' not found in the text.\")\n"
   ]
  },
  {
   "cell_type": "code",
   "execution_count": null,
   "id": "9209192b-8f14-4587-833a-320890e8c0da",
   "metadata": {},
   "outputs": [],
   "source": [
    "# Write a Python program to search a literals string in a string and also find the location within the original string where the pattern occurs."
   ]
  },
  {
   "cell_type": "code",
   "execution_count": 189,
   "id": "64353371-0de7-43b1-8667-c4f279a72efe",
   "metadata": {},
   "outputs": [
    {
     "name": "stdout",
     "output_type": "stream",
     "text": [
      "'fox' found at index 16 to 19\n"
     ]
    }
   ],
   "source": [
    "import re\n",
    "\n",
    "text = 'The quick brown fox jumps over the lazy dog.'\n",
    "searched_word = 'fox'\n",
    "\n",
    "match = re.search(searched_word, text)\n",
    "\n",
    "if match:\n",
    "    start_index = match.start()\n",
    "    end_index = match.end()\n",
    "    print(f\"'{searched_word}' found at index {start_index} to {end_index}\")\n",
    "else:\n",
    "    print(f\"'{searched_word}' not found in the text.\")\n"
   ]
  },
  {
   "cell_type": "code",
   "execution_count": null,
   "id": "e583bbc1-5124-4dc4-8d60-5bbd3ff5bef9",
   "metadata": {},
   "outputs": [],
   "source": [
    "# Write a Python program to find the substrings within a string."
   ]
  },
  {
   "cell_type": "code",
   "execution_count": 139,
   "id": "d74886c5-76dc-4d91-b77d-378314ef7b03",
   "metadata": {},
   "outputs": [
    {
     "name": "stdout",
     "output_type": "stream",
     "text": [
      "Found 'exercises' at index 7 to 16\n",
      "Found 'exercises' at index 22 to 31\n",
      "Found 'exercises' at index 36 to 45\n"
     ]
    }
   ],
   "source": [
    "import re\n",
    "\n",
    "# Sample text\n",
    "sample_text = 'Python exercises, PHP exercises, C# exercises'\n",
    "\n",
    "# Pattern to search for\n",
    "pattern = 'exercises'\n",
    "\n",
    "# Find all occurrences of the pattern\n",
    "matches = re.finditer(pattern, sample_text)\n",
    "\n",
    "# Print the results\n",
    "for match in matches:\n",
    "    start = match.start()\n",
    "    end = match.end()\n",
    "    print(f\"Found '{pattern}' at index {start} to {end}\")"
   ]
  },
  {
   "cell_type": "code",
   "execution_count": null,
   "id": "e2cac9f5-2c94-4d39-a401-69741b9ef283",
   "metadata": {},
   "outputs": [],
   "source": [
    "# Write a Python program to find the occurrence and position of the substrings within a string."
   ]
  },
  {
   "cell_type": "code",
   "execution_count": 140,
   "id": "7af858a3-891f-45a3-ac75-cbdb9adc14ab",
   "metadata": {},
   "outputs": [
    {
     "name": "stdout",
     "output_type": "stream",
     "text": [
      "Occurrence 1: Found 'exercises' at index 7 to 16\n",
      "Occurrence 2: Found 'exercises' at index 22 to 31\n",
      "Occurrence 3: Found 'exercises' at index 36 to 45\n",
      "Total occurrences of 'exercises': 3\n"
     ]
    }
   ],
   "source": [
    "import re\n",
    "\n",
    "sample_text = 'Python exercises, PHP exercises, C# exercises'\n",
    "pattern = 'exercises'\n",
    "matches = re.finditer(pattern, sample_text)\n",
    "occurrence_count = 0\n",
    "for match in matches:\n",
    "    occurrence_count += 1\n",
    "    start = match.start()\n",
    "    end = match.end()\n",
    "    print(f\"Occurrence {occurrence_count}: Found '{pattern}' at index {start} to {end}\")\n",
    "print(f\"Total occurrences of '{pattern}': {occurrence_count}\")\n"
   ]
  },
  {
   "cell_type": "code",
   "execution_count": null,
   "id": "24247e07-183b-49d7-9a69-fedfda7a3c04",
   "metadata": {},
   "outputs": [],
   "source": [
    "# Write a Python program to convert a date of yyyy-mm-dd format to dd-mm-yyyy format."
   ]
  },
  {
   "cell_type": "code",
   "execution_count": 143,
   "id": "eba8626c-0550-482a-8dda-b1b4526ee5ab",
   "metadata": {},
   "outputs": [
    {
     "name": "stdout",
     "output_type": "stream",
     "text": [
      "Original date: 2024-08-24\n",
      "Converted date: 24-08-2024\n"
     ]
    }
   ],
   "source": [
    "from datetime import datetime\n",
    "\n",
    "def convert_date_format(date_str):\n",
    "    original_date = datetime.strptime(date_str, '%Y-%m-%d')\n",
    "    formatted_date = original_date.strftime('%d-%m-%Y')\n",
    "    return formatted_date\n",
    "\n",
    "sample_date = '2024-08-24'\n",
    "\n",
    "converted_date = convert_date_format(sample_date)\n",
    "\n",
    "print(\"Original date:\", sample_date)\n",
    "print(\"Converted date:\", converted_date)\n"
   ]
  },
  {
   "cell_type": "code",
   "execution_count": null,
   "id": "25d21a31-856c-440c-81d1-45eeec04e472",
   "metadata": {},
   "outputs": [],
   "source": [
    "# Create a function in python to find all decimal numbers with a precision of 1 or 2 in a string. The use of the re.compile() method is mandatory."
   ]
  },
  {
   "cell_type": "code",
   "execution_count": 145,
   "id": "3c83a91e-30d9-4fbb-aa5a-03064b2b49d7",
   "metadata": {},
   "outputs": [
    {
     "name": "stdout",
     "output_type": "stream",
     "text": [
      "Found decimal numbers: ['01.12', '145.8', '3.01', '27.25', '0.25']\n"
     ]
    }
   ],
   "source": [
    "import re\n",
    "\n",
    "def find_decimals(text):\n",
    "    pattern = re.compile(r'\\b\\d+\\.\\d{1,2}\\b')\n",
    "    matches = pattern.findall(text)\n",
    "    return matches\n",
    "\n",
    "sample_text = \"01.12 0132.123 2.31875 145.8 3.01 27.25 0.25\"\n",
    "\n",
    "decimal_numbers = find_decimals(sample_text)\n",
    "\n",
    "print(\"Found decimal numbers:\", decimal_numbers)\n",
    "\n"
   ]
  },
  {
   "cell_type": "code",
   "execution_count": null,
   "id": "5b5f0e75-2456-4465-b40e-0d4a6a12c696",
   "metadata": {},
   "outputs": [],
   "source": [
    "# Write a Python program to separate and print the numbers and their position of a given string."
   ]
  },
  {
   "cell_type": "code",
   "execution_count": 162,
   "id": "5c3e52ed-1d4d-4529-a371-ec4c10b1c959",
   "metadata": {},
   "outputs": [
    {
     "name": "stdout",
     "output_type": "stream",
     "text": [
      "Found number '55' at index 51 to 53\n"
     ]
    }
   ],
   "source": [
    "import re\n",
    "\n",
    "def find_numbers_and_positions(text):\n",
    "    \n",
    "    pattern = re.compile(r'\\d+')\n",
    "    \n",
    "    \n",
    "    matches = pattern.finditer(text)\n",
    "    \n",
    "    \n",
    "    for match in matches:\n",
    "        number = match.group()\n",
    "        start = match.start()\n",
    "        end = match.end()\n",
    "        print(f\"Found number '{number}' at index {start} to {end}\")\n",
    "        \n",
    "sample_text = \"This example initializes a list with a capacity of 55 items, adds four items, and then adjusts the list size.\"\n",
    "\n",
    "\n",
    "find_numbers_and_positions(sample_text)\n"
   ]
  },
  {
   "cell_type": "code",
   "execution_count": null,
   "id": "5f52db7b-e793-4962-aae9-1e7fa5aa37e1",
   "metadata": {},
   "outputs": [],
   "source": [
    "# Write a regular expression in python program to extract maximum/largest numeric value from a string.\n"
   ]
  },
  {
   "cell_type": "code",
   "execution_count": 190,
   "id": "b8c1a2d4-9c0f-4245-828e-c902af6568eb",
   "metadata": {},
   "outputs": [
    {
     "name": "stdout",
     "output_type": "stream",
     "text": [
      "The maximum number is: 950\n"
     ]
    }
   ],
   "source": [
    "import re\n",
    "\n",
    "def extract_max_number(text):\n",
    "    pattern = re.compile(r'\\d+')\n",
    "    \n",
    "    matches = pattern.findall(text)\n",
    "    \n",
    "    numbers = list(map(int, matches))\n",
    "    \n",
    "    max_number = max(numbers)\n",
    "    \n",
    "    return max_number\n",
    "\n",
    "sample_text = 'My marks in each semester are: 947, 896, 926, 524, 734, 950, 642'\n",
    "\n",
    "max_number = extract_max_number(sample_text)\n",
    "\n",
    "print(\"The maximum number is:\", max_number)\n"
   ]
  },
  {
   "cell_type": "code",
   "execution_count": null,
   "id": "d3985fe1-1521-43c4-bb00-db7b787af8bb",
   "metadata": {},
   "outputs": [],
   "source": [
    "# Create a function in python to insert spaces between words starting with capital letters."
   ]
  },
  {
   "cell_type": "code",
   "execution_count": 167,
   "id": "9b7d71bd-5392-4d5f-ac3d-a9e7ef11b1b7",
   "metadata": {},
   "outputs": [
    {
     "name": "stdout",
     "output_type": "stream",
     "text": [
      "Text with spaces: Regular Expression Is An Important Topic In Python\n"
     ]
    }
   ],
   "source": [
    "import re\n",
    "\n",
    "def insert_spaces(text):\n",
    "    pattern = re.compile(r'(?<!^)(?=[A-Z])')\n",
    "    \n",
    "    spaced_text = pattern.sub(' ', text)\n",
    "    \n",
    "    return spaced_text\n",
    "\n",
    "sample_text = \"RegularExpressionIsAnImportantTopicInPython\"\n",
    "\n",
    "result = insert_spaces(sample_text)\n",
    "\n",
    "print(\"Text with spaces:\", result)\n"
   ]
  },
  {
   "cell_type": "code",
   "execution_count": null,
   "id": "614281f6-9fcc-40e8-985f-1e92c2d2a085",
   "metadata": {},
   "outputs": [],
   "source": [
    "# Python regex to find sequences of one upper case letter followed by lower case letters"
   ]
  },
  {
   "cell_type": "code",
   "execution_count": 169,
   "id": "d4958bb1-6658-4eb8-b314-8f0f5cd94090",
   "metadata": {},
   "outputs": [
    {
     "name": "stdout",
     "output_type": "stream",
     "text": [
      "Found sequences: ['Regular', 'Expression', 'Is', 'An', 'Important', 'Topic', 'In', 'Python']\n"
     ]
    }
   ],
   "source": [
    "import re\n",
    "\n",
    "def find_sequences(text):\n",
    "    pattern = re.compile(r'[A-Z][a-z]+')\n",
    "    \n",
    "    matches = pattern.findall(text)\n",
    "    \n",
    "    return matches\n",
    "\n",
    "sample_text = \"Regular Expression Is An Important Topic In Python\"\n",
    "\n",
    "sequences = find_sequences(sample_text)\n",
    "\n",
    "print(\"Found sequences:\", sequences)\n"
   ]
  },
  {
   "cell_type": "code",
   "execution_count": null,
   "id": "e9a6de32-dd25-406a-aa60-bbd8b866e6c7",
   "metadata": {},
   "outputs": [],
   "source": [
    "# Write a Python program to remove continuous duplicate words from Sentence using Regular Expression."
   ]
  },
  {
   "cell_type": "code",
   "execution_count": 170,
   "id": "4109db53-9371-487e-8a69-1f3ac21ce28b",
   "metadata": {},
   "outputs": [
    {
     "name": "stdout",
     "output_type": "stream",
     "text": [
      "Cleaned text: Hello world\n"
     ]
    }
   ],
   "source": [
    "import re\n",
    "\n",
    "def remove_duplicate_words(text):\n",
    "    pattern = re.compile(r'\\b(\\w+)\\s+\\1\\b', re.IGNORECASE)\n",
    "    \n",
    "    result = pattern.sub(r'\\1', text)\n",
    "    \n",
    "    return result\n",
    "\n",
    "sample_text = \"Hello hello world world\"\n",
    "\n",
    "cleaned_text = remove_duplicate_words(sample_text)\n",
    "\n",
    "print(\"Cleaned text:\", cleaned_text)\n"
   ]
  },
  {
   "cell_type": "code",
   "execution_count": null,
   "id": "e865dcd3-0c8e-4371-aafb-280d2ed02971",
   "metadata": {},
   "outputs": [],
   "source": [
    "# Write a python program using RegEx to accept string ending with alphanumeric character."
   ]
  },
  {
   "cell_type": "code",
   "execution_count": 175,
   "id": "c179355e-eb2e-43bd-b25c-357290793671",
   "metadata": {},
   "outputs": [],
   "source": [
    "import re\n",
    "\n",
    "def ends_with_alphanumeric(s):\n",
    "    pattern = r'.*[a-zA-Z0-9]$'\n",
    "    \n",
    "    if re.match(pattern, s):\n",
    "        return True\n",
    "    else:\n",
    "        return False\n"
   ]
  },
  {
   "cell_type": "code",
   "execution_count": null,
   "id": "4c06bf54-ea0a-405d-9b02-2626b51cedd1",
   "metadata": {},
   "outputs": [],
   "source": [
    "# Write a python program using RegEx to extract the hashtags."
   ]
  },
  {
   "cell_type": "code",
   "execution_count": 176,
   "id": "285067ee-38bc-45fb-9d00-40750a1273d6",
   "metadata": {},
   "outputs": [
    {
     "name": "stdout",
     "output_type": "stream",
     "text": [
      "['#Doltiwal', '#xyzabc', '#Demonetization']\n"
     ]
    }
   ],
   "source": [
    "import re\n",
    "\n",
    "def extract_hashtags(text):\n",
    "    pattern = r'#\\w+'\n",
    "    \n",
    "    hashtags = re.findall(pattern, text)\n",
    "    \n",
    "    return hashtags\n",
    "\n",
    "sample_text = \"\"\"RT @kapil_kausik: #Doltiwal I mean #xyzabc is \"hurt\" by #Demonetization as the same has rendered USELESS <ed><U+00A0><U+00BD><ed><U+00B1><U+0089> \"acquired funds\" No wo\"\"\"\n",
    "\n",
    "extracted_hashtags = extract_hashtags(sample_text)\n",
    "\n",
    "print(extracted_hashtags)\n"
   ]
  },
  {
   "cell_type": "code",
   "execution_count": null,
   "id": "2fb544f7-ef80-4f16-bd57-7c08cb9dfeb3",
   "metadata": {},
   "outputs": [],
   "source": [
    "# Write a python program using RegEx to remove <U+..> like symbols."
   ]
  },
  {
   "cell_type": "code",
   "execution_count": 177,
   "id": "ad9a426c-76f9-4276-9478-7b26603dc03d",
   "metadata": {},
   "outputs": [
    {
     "name": "stdout",
     "output_type": "stream",
     "text": [
      "@Jags123456 Bharat band on 28??<ed><ed>Those who  are protesting #demonetization  are all different party leaders\n"
     ]
    }
   ],
   "source": [
    "import re\n",
    "\n",
    "def remove_unicode_symbols(text):\n",
    "    pattern = r'<U\\+[0-9A-Fa-f]{4}>'\n",
    "    \n",
    "    cleaned_text = re.sub(pattern, '', text)\n",
    "    \n",
    "    return cleaned_text\n",
    "\n",
    "sample_text = \"@Jags123456 Bharat band on 28??<ed><U+00A0><U+00BD><ed><U+00B8><U+0082>Those who  are protesting #demonetization  are all different party leaders\"\n",
    "\n",
    "cleaned_text = remove_unicode_symbols(sample_text)\n",
    "\n",
    "print(cleaned_text)\n"
   ]
  },
  {
   "cell_type": "code",
   "execution_count": null,
   "id": "92af3597-c6fa-4626-8994-75762c6ef6da",
   "metadata": {},
   "outputs": [],
   "source": [
    "# Write a python program to extract dates from the text stored in the text file."
   ]
  },
  {
   "cell_type": "code",
   "execution_count": 183,
   "id": "529fec61-f7fb-4f10-ad52-fa92ea94cf61",
   "metadata": {},
   "outputs": [
    {
     "name": "stdout",
     "output_type": "stream",
     "text": [
      "Extracted dates: ['12-09-1992', '15-12-1999']\n"
     ]
    }
   ],
   "source": [
    "import re\n",
    "\n",
    "def extract_dates(text):\n",
    "  date_pattern = r\"\\d{2}-\\d{2}-\\d{4}\"\n",
    "\n",
    "  matches = re.findall(date_pattern, text)\n",
    "\n",
    "  return matches\n",
    "\n",
    "sample_text = \"Ron was born on 12-09-1992 and he was admitted to school 15-12-1999.\"\n",
    "\n",
    "with open(\"sample_text.txt\", \"w\") as f:\n",
    "  f.write(sample_text)\n",
    "\n",
    "with open(\"sample_text.txt\", \"r\") as f:\n",
    "  text = f.read()\n",
    "\n",
    "dates = extract_dates(text)\n",
    "\n",
    "print(\"Extracted dates:\", dates)\n"
   ]
  },
  {
   "cell_type": "code",
   "execution_count": null,
   "id": "767ce0da-4c51-4d42-8c9e-466fb7ac0f6b",
   "metadata": {},
   "outputs": [],
   "source": [
    "# Create a function in python to remove all words from a string of length between 2 and 4."
   ]
  },
  {
   "cell_type": "code",
   "execution_count": 185,
   "id": "86cb4f9b-4fb8-4b40-8d0b-52f2f24eab85",
   "metadata": {},
   "outputs": [
    {
     "name": "stdout",
     "output_type": "stream",
     "text": [
      "following example creates ArrayList a capacity elements. 4 elements added ArrayList ArrayList trimmed accordingly.\n"
     ]
    }
   ],
   "source": [
    "import re\n",
    "\n",
    "def remove_short_words(text):\n",
    "    pattern = re.compile(r'\\b\\w{2,4}\\b')\n",
    "    \n",
    "    result = pattern.sub('', text)\n",
    "    \n",
    "    result = re.sub(r'\\s+', ' ', result).strip()\n",
    "    \n",
    "    return result\n",
    "\n",
    "sample_text = \"The following example creates an ArrayList with a capacity of 50 elements. 4 elements are then added to the ArrayList and the ArrayList is trimmed accordingly.\"\n",
    "\n",
    "result = remove_short_words(sample_text)\n",
    "print(result)\n"
   ]
  }
 ],
 "metadata": {
  "kernelspec": {
   "display_name": "Python 3 (ipykernel)",
   "language": "python",
   "name": "python3"
  },
  "language_info": {
   "codemirror_mode": {
    "name": "ipython",
    "version": 3
   },
   "file_extension": ".py",
   "mimetype": "text/x-python",
   "name": "python",
   "nbconvert_exporter": "python",
   "pygments_lexer": "ipython3",
   "version": "3.11.7"
  }
 },
 "nbformat": 4,
 "nbformat_minor": 5
}
